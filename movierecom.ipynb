{
 "cells": [
  {
   "cell_type": "code",
   "execution_count": null,
   "id": "fa764689-7d6a-4554-bc03-06b5ce1ae3f6",
   "metadata": {},
   "outputs": [],
   "source": [
    "import pandas as pd\n",
    "import string\n",
    "from sklearn.feature_extraction.text import TfidfVectorizer\n",
    "from sklearn.metrics.pairwise import cosine_similarity\n",
    "\n",
    "df = pd.read_csv('mvs.csv')\n",
    "df.isnull().sum()  # checking for missing values\n",
    "df = df.head(500)  # reduce dataset size for now\n",
    "\n",
    "df['fullplot'] = df['fullplot'].fillna('')  # Handle missing values\n",
    "df['fullplot'] = df['fullplot'].apply(lambda x: x.lower())  # Convert to lowercase\n",
    "df['fullplot'] = df['fullplot'].apply(lambda x: x.translate(str.maketrans('', '', string.punctuation)))  # Remove punctuation\n",
    "\n",
    "tfidf = TfidfVectorizer(stop_words='english')\n",
    "tfidf_matrix = tfidf.fit_transform(df['fullplot'])\n",
    "cosine_sim = cosine_similarity(tfidf_matrix, tfidf_matrix)\n",
    "\n",
    "def recommend_movies(movie_title, df, cosine_sim):\n",
    "    movie_title = movie_title.lower()\n",
    "    if movie_title not in df['title'].str.lower().values:\n",
    "        return \"Movie not found!\"\n",
    "\n",
    "    index = df[df['title'].str.lower() == movie_title].index[0]\n",
    "    similar_movies = list(enumerate(cosine_sim[index]))\n",
    "    similar_movies = sorted(similar_movies, key=lambda x: x[1], reverse=True)[1:6]\n",
    "    recommended_movies = [df.iloc[i[0]]['title'] for i in similar_movies]\n",
    "    return recommended_movies\n",
    "\n",
    "print(recommend_movies(\"Carmencita\", df, cosine_sim))\n",
    "\n"
   ]
  },
  {
   "cell_type": "code",
   "execution_count": null,
   "id": "182d6a2f-cd45-4c60-afb8-d5445470cb94",
   "metadata": {},
   "outputs": [],
   "source": []
  }
 ],
 "metadata": {
  "kernelspec": {
   "display_name": "Python 3 (ipykernel)",
   "language": "python",
   "name": "python3"
  },
  "language_info": {
   "codemirror_mode": {
    "name": "ipython",
    "version": 3
   },
   "file_extension": ".py",
   "mimetype": "text/x-python",
   "name": "python",
   "nbconvert_exporter": "python",
   "pygments_lexer": "ipython3",
   "version": "3.13.2"
  }
 },
 "nbformat": 4,
 "nbformat_minor": 5
}
